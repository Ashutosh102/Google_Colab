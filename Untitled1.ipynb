{
  "nbformat": 4,
  "nbformat_minor": 0,
  "metadata": {
    "colab": {
      "name": "Untitled0.ipynb",
      "provenance": [],
      "collapsed_sections": [],
      "authorship_tag": "ABX9TyMRkhZGfX0XoyRyW7n4GVgr",
      "include_colab_link": true
    },
    "kernelspec": {
      "name": "python3",
      "display_name": "Python 3"
    },
    "language_info": {
      "name": "python"
    }
  },
  "cells": [
    {
      "cell_type": "markdown",
      "metadata": {
        "id": "view-in-github",
        "colab_type": "text"
      },
      "source": [
        "<a href=\"https://colab.research.google.com/github/Ashutosh102/Google_Colab/blob/master/Untitled1.ipynb\" target=\"_parent\"><img src=\"https://colab.research.google.com/assets/colab-badge.svg\" alt=\"Open In Colab\"/></a>"
      ]
    },
    {
      "cell_type": "code",
      "metadata": {
        "colab": {
          "base_uri": "https://localhost:8080/"
        },
        "id": "28yQeyEjS0cg",
        "outputId": "1b6c1f24-4931-4681-9157-e8da61e6e140"
      },
      "source": [
        "print(\"You know who I am :)).....DevAshu\")"
      ],
      "execution_count": null,
      "outputs": [
        {
          "output_type": "stream",
          "name": "stdout",
          "text": [
            "You know who I am :)).....DevAshu\n"
          ]
        }
      ]
    },
    {
      "cell_type": "code",
      "metadata": {
        "colab": {
          "base_uri": "https://localhost:8080/"
        },
        "id": "7Hz5xD1PUSxh",
        "outputId": "63ee852d-1b07-44cc-a28c-dd6e67293584"
      },
      "source": [
        "\"\"\" Hi Giet\n",
        "    Kaise ho aap \"\"\"\n",
        "print(\"Welcome to BitGrit workshop\") #hi\n"
      ],
      "execution_count": null,
      "outputs": [
        {
          "output_type": "stream",
          "name": "stdout",
          "text": [
            "Welcome to BitGrit workshop\n"
          ]
        }
      ]
    },
    {
      "cell_type": "code",
      "metadata": {
        "colab": {
          "base_uri": "https://localhost:8080/"
        },
        "id": "Dna13xb8Ynza",
        "outputId": "eb3d6b2d-1464-43cd-e5b1-d3cf292c51ec"
      },
      "source": [
        "x=3\n",
        "type(x)"
      ],
      "execution_count": null,
      "outputs": [
        {
          "output_type": "execute_result",
          "data": {
            "text/plain": [
              "int"
            ]
          },
          "metadata": {},
          "execution_count": 10
        }
      ]
    },
    {
      "cell_type": "code",
      "metadata": {
        "colab": {
          "base_uri": "https://localhost:8080/"
        },
        "id": "dL1XsMlQYwba",
        "outputId": "bbc9743e-5e21-42ec-f9cf-a5496a336bcf"
      },
      "source": [
        "t=33.99\n",
        "type(t)"
      ],
      "execution_count": null,
      "outputs": [
        {
          "output_type": "execute_result",
          "data": {
            "text/plain": [
              "float"
            ]
          },
          "metadata": {},
          "execution_count": 11
        }
      ]
    },
    {
      "cell_type": "code",
      "metadata": {
        "colab": {
          "base_uri": "https://localhost:8080/"
        },
        "id": "w9CHSGQiZCkJ",
        "outputId": "6fdd1cf6-3f0d-4584-8e71-462fedb650b6"
      },
      "source": [
        "a=\"GIET...nice....giet ka khana....bakwaas\"\n",
        "type(a)"
      ],
      "execution_count": null,
      "outputs": [
        {
          "output_type": "execute_result",
          "data": {
            "text/plain": [
              "str"
            ]
          },
          "metadata": {},
          "execution_count": 13
        }
      ]
    },
    {
      "cell_type": "code",
      "metadata": {
        "colab": {
          "base_uri": "https://localhost:8080/"
        },
        "id": "u1Vd7aquZzQs",
        "outputId": "9bcbabc7-4277-4b18-e1dc-196346964167"
      },
      "source": [
        "x=True\n",
        "type(x)"
      ],
      "execution_count": null,
      "outputs": [
        {
          "output_type": "execute_result",
          "data": {
            "text/plain": [
              "bool"
            ]
          },
          "metadata": {},
          "execution_count": 14
        }
      ]
    },
    {
      "cell_type": "code",
      "metadata": {
        "colab": {
          "base_uri": "https://localhost:8080/"
        },
        "id": "z74q0SI9aGAc",
        "outputId": "4cbe0fab-4bb2-4bc2-d2fa-666a5ee26bc9"
      },
      "source": [
        "x=2+6j\n",
        "type(x)"
      ],
      "execution_count": null,
      "outputs": [
        {
          "output_type": "execute_result",
          "data": {
            "text/plain": [
              "complex"
            ]
          },
          "metadata": {},
          "execution_count": 16
        }
      ]
    },
    {
      "cell_type": "code",
      "metadata": {
        "colab": {
          "base_uri": "https://localhost:8080/"
        },
        "id": "tzeaP9CnbYcs",
        "outputId": "98d08a86-91a7-4f69-ce3f-3812dab3819b"
      },
      "source": [
        "a=4\n",
        "b=7\n",
        "print(a+b)"
      ],
      "execution_count": null,
      "outputs": [
        {
          "output_type": "stream",
          "name": "stdout",
          "text": [
            "11\n"
          ]
        }
      ]
    },
    {
      "cell_type": "code",
      "metadata": {
        "colab": {
          "base_uri": "https://localhost:8080/"
        },
        "id": "Fj9Zu2QCbdwc",
        "outputId": "92894b30-4747-4a1e-9d30-fd22609e6140"
      },
      "source": [
        "a=0\n",
        "c=6\n",
        "print((c-a)*c)"
      ],
      "execution_count": null,
      "outputs": [
        {
          "output_type": "stream",
          "name": "stdout",
          "text": [
            "36\n"
          ]
        }
      ]
    },
    {
      "cell_type": "code",
      "metadata": {
        "colab": {
          "base_uri": "https://localhost:8080/"
        },
        "id": "D64h89B2c_Oa",
        "outputId": "9d6577e8-3390-4b59-c451-064ee23fb49a"
      },
      "source": [
        "a=9\n",
        "b=8\n",
        "c=a>b\n",
        "print(c)"
      ],
      "execution_count": null,
      "outputs": [
        {
          "output_type": "stream",
          "name": "stdout",
          "text": [
            "True\n"
          ]
        }
      ]
    },
    {
      "cell_type": "code",
      "metadata": {
        "colab": {
          "base_uri": "https://localhost:8080/"
        },
        "id": "yZHGR6jkdH1o",
        "outputId": "989771ff-0044-4d30-c7b0-b19065632eeb"
      },
      "source": [
        "x=1\n",
        "y=1\n",
        "c= x and y\n",
        "print(c)"
      ],
      "execution_count": null,
      "outputs": [
        {
          "output_type": "stream",
          "name": "stdout",
          "text": [
            "1\n"
          ]
        }
      ]
    },
    {
      "cell_type": "code",
      "metadata": {
        "colab": {
          "base_uri": "https://localhost:8080/"
        },
        "id": "F8sZpZh2eEPo",
        "outputId": "543a6a1b-e48b-48af-8fa0-440f503d67fd"
      },
      "source": [
        "x=1\n",
        "y=0\n",
        "c= x or y\n",
        "d=not x\n",
        "print(c)\n",
        "print(d)"
      ],
      "execution_count": null,
      "outputs": [
        {
          "output_type": "stream",
          "name": "stdout",
          "text": [
            "1\n",
            "False\n"
          ]
        }
      ]
    },
    {
      "cell_type": "code",
      "metadata": {
        "colab": {
          "base_uri": "https://localhost:8080/"
        },
        "id": "9xTUJwB-eQZ_",
        "outputId": "b0614189-fd10-4c6f-a3fb-0e2b418ebc2f"
      },
      "source": [
        "a=9\n",
        "b+=3\n",
        "print(b)"
      ],
      "execution_count": null,
      "outputs": [
        {
          "output_type": "stream",
          "name": "stdout",
          "text": [
            "32\n"
          ]
        }
      ]
    },
    {
      "cell_type": "code",
      "metadata": {
        "colab": {
          "base_uri": "https://localhost:8080/"
        },
        "id": "ylHaFHdpfygw",
        "outputId": "b3b3ee83-13e1-479c-909f-8551a50141a6"
      },
      "source": [
        "Ashu=['Bikash', 'Devi', 'Rahul Uncle', 'Madhu Bhaina']\n",
        "print('Bikash' in Ashu)"
      ],
      "execution_count": null,
      "outputs": [
        {
          "output_type": "stream",
          "name": "stdout",
          "text": [
            "True\n"
          ]
        }
      ]
    },
    {
      "cell_type": "code",
      "metadata": {
        "colab": {
          "base_uri": "https://localhost:8080/"
        },
        "id": "GqhGH8f1i4aS",
        "outputId": "4320777a-4122-4ec9-ed18-426be675291d"
      },
      "source": [
        "print('Madhu Bhaina' in Ashu)"
      ],
      "execution_count": null,
      "outputs": [
        {
          "output_type": "stream",
          "name": "stdout",
          "text": [
            "True\n"
          ]
        }
      ]
    },
    {
      "cell_type": "code",
      "metadata": {
        "colab": {
          "base_uri": "https://localhost:8080/"
        },
        "id": "bb6oE2pei_Wz",
        "outputId": "aaee9845-7581-4f8c-9076-9fb9a2392933"
      },
      "source": [
        "x=1\n",
        "y=1.0\n",
        "print(x is y)r"
      ],
      "execution_count": null,
      "outputs": [
        {
          "output_type": "stream",
          "name": "stdout",
          "text": [
            "False\n"
          ]
        }
      ]
    },
    {
      "cell_type": "code",
      "metadata": {
        "colab": {
          "base_uri": "https://localhost:8080/"
        },
        "id": "JeQNEhkcjb2E",
        "outputId": "7bbdbef1-115d-41b9-aa9b-ba5f211956c7"
      },
      "source": [
        "\n",
        "x=int(input(\"Enter your age quickly...I have more things to do: \"))\n",
        "if x>=18:\n",
        "   print(\"Congo!! Eligible....rush to your nearest voting center man!!\")\n",
        "else:\n",
        "   print(\"Better luck upcoming years\")"
      ],
      "execution_count": null,
      "outputs": [
        {
          "output_type": "stream",
          "name": "stdout",
          "text": [
            "Enter your age quickly...I have more things to do: 17\n",
            "Better luck upcoming years\n"
          ]
        }
      ]
    },
    {
      "cell_type": "code",
      "metadata": {
        "colab": {
          "base_uri": "https://localhost:8080/"
        },
        "id": "0QiKUWHxq-94",
        "outputId": "a55c67c7-76d1-4768-c084-e8595b02698b"
      },
      "source": [
        "a=int(input(\"Pehla waala number daal re: \"))\n",
        "b=int(input(\"Doosra waala bhi de na: \"))\n",
        "c=int(input(\"Abb Kya teesre ka invitation doon??: \"))\n",
        "if a>b and a>c:\n",
        "  print(\"a=\",a,\" Bada bhai hai re\")\n",
        "elif b>a and b>c:\n",
        "  print(\"b=\",b,\" Ke aage ghutna tek re\")\n",
        "else:\n",
        "  print(\"c=\",c,\" Mahaan hai re tu\")"
      ],
      "execution_count": null,
      "outputs": [
        {
          "output_type": "stream",
          "name": "stdout",
          "text": [
            "Pehla waala number daal re: 7\n",
            "Doosra waala bhi de na: 12\n",
            "Abb Kya teesre ka invitation doon??: 13\n",
            "c= 13  Mahaan hai re tu\n"
          ]
        }
      ]
    },
    {
      "cell_type": "code",
      "metadata": {
        "colab": {
          "base_uri": "https://localhost:8080/"
        },
        "id": "-1uj5e2rt4Tp",
        "outputId": "4a574500-7d57-4c99-e8be-a4d11512c60e"
      },
      "source": [
        "for i in range(0,7,2):\n",
        "    print(i)"
      ],
      "execution_count": null,
      "outputs": [
        {
          "output_type": "stream",
          "name": "stdout",
          "text": [
            "0\n",
            "2\n",
            "4\n",
            "6\n"
          ]
        }
      ]
    },
    {
      "cell_type": "code",
      "metadata": {
        "colab": {
          "base_uri": "https://localhost:8080/"
        },
        "id": "zBlEdLmLwZ5T",
        "outputId": "c6d77077-2604-478f-f4fa-9792528350eb"
      },
      "source": [
        "num=int(input(\"Enter a limit: \"))\n",
        "fact=1\n",
        "for i in range(1,num):\n",
        "  fact=fact*i\n",
        "print(fact)"
      ],
      "execution_count": null,
      "outputs": [
        {
          "output_type": "stream",
          "name": "stdout",
          "text": [
            "Enter a limit: 6\n",
            "120\n"
          ]
        }
      ]
    },
    {
      "cell_type": "code",
      "metadata": {
        "colab": {
          "base_uri": "https://localhost:8080/"
        },
        "id": "_LHOgkMbyRWJ",
        "outputId": "51c0df6b-3c3f-43f2-e9b0-4150d2a3bf66"
      },
      "source": [
        "i=0\n",
        "for i in range(6):\n",
        "  for j in range(i):\n",
        "    print(\"*\",end='')\n",
        "  print(\"\\n\")"
      ],
      "execution_count": null,
      "outputs": [
        {
          "output_type": "stream",
          "name": "stdout",
          "text": [
            "\n",
            "\n",
            "*\n",
            "\n",
            "**\n",
            "\n",
            "***\n",
            "\n",
            "****\n",
            "\n",
            "*****\n",
            "\n"
          ]
        }
      ]
    },
    {
      "cell_type": "code",
      "metadata": {
        "colab": {
          "base_uri": "https://localhost:8080/"
        },
        "id": "L4T-RgpV1dGH",
        "outputId": "7171b229-805e-45b5-9d59-a67e323ddd36"
      },
      "source": [
        "num=153\n",
        "temp=num\n",
        "sum=0\n",
        "while num!=0:\n",
        "     rem=num%10\n",
        "     sum=sum+rem**3\n",
        "     num=num//10\n",
        "if temp==sum:\n",
        "  print(\"Armstrong it is!!\")\n",
        "else:\n",
        "  print(\"No...not arm strong\")\n",
        "  "
      ],
      "execution_count": null,
      "outputs": [
        {
          "output_type": "stream",
          "name": "stdout",
          "text": [
            "Armstrong it is!!\n"
          ]
        }
      ]
    },
    {
      "cell_type": "code",
      "metadata": {
        "id": "CSWTZYH62wj7",
        "colab": {
          "base_uri": "https://localhost:8080/"
        },
        "outputId": "7dcbc7f0-3467-4174-a077-b3a1c7c2c6f8"
      },
      "source": [
        "num=153\n",
        "temp=num\n",
        "sum=0\n",
        "while num!=0:\n",
        "     rem=num%10\n",
        "     sum=sum*10+rem\n",
        "     num=num//10\n",
        "if temp==sum:\n",
        "  print(\"palindrome it is!!\")\n",
        "else:\n",
        "  print(\"No...not a palindrome\")"
      ],
      "execution_count": 1,
      "outputs": [
        {
          "output_type": "stream",
          "name": "stdout",
          "text": [
            "No...not a palindrome\n"
          ]
        }
      ]
    },
    {
      "cell_type": "code",
      "metadata": {
        "colab": {
          "base_uri": "https://localhost:8080/"
        },
        "id": "uY4nRMChcizy",
        "outputId": "e8cfd027-927b-488c-8139-0f1340dd504b"
      },
      "source": [
        "l=[1,2,3,4,5,\"chal\"]\n",
        "i=3\n",
        "for i in range(len(l)):\n",
        "  if l[i]==3:\n",
        "    print(\"Yes\")\n",
        "  else:\n",
        "    print(\"No!!\")"
      ],
      "execution_count": 4,
      "outputs": [
        {
          "output_type": "stream",
          "name": "stdout",
          "text": [
            "No!!\n",
            "No!!\n",
            "Yes\n",
            "No!!\n",
            "No!!\n",
            "No!!\n"
          ]
        }
      ]
    },
    {
      "cell_type": "code",
      "metadata": {
        "colab": {
          "base_uri": "https://localhost:8080/"
        },
        "id": "cacX7wUCew1J",
        "outputId": "02fc5ca6-06fe-477f-d3cf-464e111a23a6"
      },
      "source": [
        "a=[1,2,2,3,3,4,5]\n",
        "print(set(a))"
      ],
      "execution_count": 7,
      "outputs": [
        {
          "output_type": "stream",
          "name": "stdout",
          "text": [
            "{1, 2, 3, 4, 5}\n"
          ]
        }
      ]
    },
    {
      "cell_type": "code",
      "metadata": {
        "colab": {
          "base_uri": "https://localhost:8080/"
        },
        "id": "RrsOTFoTjbga",
        "outputId": "bbdd2e10-b4d4-436e-be0a-5a54f6db9b7d"
      },
      "source": [
        "s={1,2,3,4}\n",
        "s.add(75)\n",
        "print(s)\n",
        "s.union(a)\n",
        "print(s)"
      ],
      "execution_count": 10,
      "outputs": [
        {
          "output_type": "stream",
          "name": "stdout",
          "text": [
            "{1, 2, 3, 4, 75}\n",
            "{1, 2, 3, 4, 75}\n"
          ]
        }
      ]
    },
    {
      "cell_type": "code",
      "metadata": {
        "colab": {
          "base_uri": "https://localhost:8080/"
        },
        "id": "w0dZhPovjxBY",
        "outputId": "32c0f258-e12e-40d8-cbe2-c05904d82d4b"
      },
      "source": [
        "s.pop()"
      ],
      "execution_count": 12,
      "outputs": [
        {
          "output_type": "execute_result",
          "data": {
            "text/plain": [
              "1"
            ]
          },
          "metadata": {},
          "execution_count": 12
        }
      ]
    },
    {
      "cell_type": "code",
      "metadata": {
        "id": "AJcV7bbBkjBE"
      },
      "source": [
        "s.remove(75)"
      ],
      "execution_count": 13,
      "outputs": []
    },
    {
      "cell_type": "code",
      "metadata": {
        "colab": {
          "base_uri": "https://localhost:8080/"
        },
        "id": "hUfGBVzgkzdc",
        "outputId": "897f3fce-5a49-4ca5-95eb-4b0662f8e589"
      },
      "source": [
        "print(s)"
      ],
      "execution_count": 14,
      "outputs": [
        {
          "output_type": "stream",
          "name": "stdout",
          "text": [
            "{2, 3, 4}\n"
          ]
        }
      ]
    },
    {
      "cell_type": "code",
      "metadata": {
        "colab": {
          "base_uri": "https://localhost:8080/"
        },
        "id": "FiBYhhUfk1M_",
        "outputId": "3c61c6fe-d1e1-4231-cff1-c8c428e91906"
      },
      "source": [
        "d={1:\"s\",2:\"w\"}\n",
        "print(d)"
      ],
      "execution_count": 17,
      "outputs": [
        {
          "output_type": "stream",
          "name": "stdout",
          "text": [
            "{1: 's', 2: 'w'}\n"
          ]
        }
      ]
    },
    {
      "cell_type": "code",
      "metadata": {
        "colab": {
          "base_uri": "https://localhost:8080/"
        },
        "id": "GbI3X3baoHmN",
        "outputId": "7c93ab1f-4c95-44e7-eccc-847e6e371b87"
      },
      "source": [
        "print(d.get(1))"
      ],
      "execution_count": 21,
      "outputs": [
        {
          "output_type": "stream",
          "name": "stdout",
          "text": [
            "s\n"
          ]
        }
      ]
    },
    {
      "cell_type": "code",
      "metadata": {
        "colab": {
          "base_uri": "https://localhost:8080/"
        },
        "id": "5tMiDUtPoimw",
        "outputId": "bb394813-30b0-4ca6-b4ba-3cbc3a1ccdab"
      },
      "source": [
        "print(d.items())"
      ],
      "execution_count": 23,
      "outputs": [
        {
          "output_type": "stream",
          "name": "stdout",
          "text": [
            "dict_items([(1, 's'), (2, 'w')])\n"
          ]
        }
      ]
    },
    {
      "cell_type": "code",
      "metadata": {
        "colab": {
          "base_uri": "https://localhost:8080/"
        },
        "id": "RFD2XBk6owGW",
        "outputId": "9fcb0032-18a9-4c3a-9349-26792b0a84a5"
      },
      "source": [
        "print(d.values())"
      ],
      "execution_count": 24,
      "outputs": [
        {
          "output_type": "stream",
          "name": "stdout",
          "text": [
            "dict_values(['s', 'w'])\n"
          ]
        }
      ]
    },
    {
      "cell_type": "code",
      "metadata": {
        "colab": {
          "base_uri": "https://localhost:8080/"
        },
        "id": "ItZlXI84o2Cp",
        "outputId": "b2128c96-81d4-4ca8-d5d8-628edcc2be73"
      },
      "source": [
        "print(d.keys())"
      ],
      "execution_count": 25,
      "outputs": [
        {
          "output_type": "stream",
          "name": "stdout",
          "text": [
            "dict_keys([1, 2])\n"
          ]
        }
      ]
    },
    {
      "cell_type": "code",
      "metadata": {
        "id": "pExRPXjio6J_"
      },
      "source": [
        ""
      ],
      "execution_count": null,
      "outputs": []
    }
  ]
}